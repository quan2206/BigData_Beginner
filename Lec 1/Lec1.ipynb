{
 "cells": [
  {
   "cell_type": "code",
   "execution_count": 4,
   "metadata": {},
   "outputs": [
    {
     "data": {
      "text/plain": [
       "\"Isn't this fun\""
      ]
     },
     "execution_count": 4,
     "metadata": {},
     "output_type": "execute_result"
    }
   ],
   "source": [
    "real_long_string = 'this is a really long string. \\\n",
    "    It has multiple parts, \\\n",
    "    but  all in one line. '\n",
    "real_long_string"
   ]
  },
  {
   "cell_type": "code",
   "execution_count": 13,
   "metadata": {},
   "outputs": [
    {
     "data": {
      "text/plain": [
       "1"
      ]
     },
     "execution_count": 13,
     "metadata": {},
     "output_type": "execute_result"
    }
   ],
   "source": [
    "single_quoted_string = 'data science'\n",
    "double_quoted_string = \"data science\"\n",
    "escaped_string = ' Isn\\'t this fun'\n",
    "another_string = \"Isn't this fun\"\n",
    "new = '\\t'\n",
    "len(new)"
   ]
  },
  {
   "cell_type": "code",
   "execution_count": 30,
   "metadata": {},
   "outputs": [
    {
     "data": {
      "text/plain": [
       "[[1, 2, 3], ['string', 0.1, True], []]"
      ]
     },
     "execution_count": 30,
     "metadata": {},
     "output_type": "execute_result"
    }
   ],
   "source": [
    "integer_list = [1, 2, 3]\n",
    "heterogeneous_list = [\"string\", 0.1, True]\n",
    "list_of_lists = [ integer_list, heterogeneous_list, [] ]\n",
    "list_of_lists\n"
   ]
  },
  {
   "cell_type": "code",
   "execution_count": 44,
   "metadata": {},
   "outputs": [
    {
     "name": "stdout",
     "output_type": "stream",
     "text": [
      "[0, 1, 2, 3, 4, 5, 6, 7, 8, 9]\n",
      "7\n",
      "[1, 2, 3, 4]\n",
      "[0, 1, 2]\n",
      "[7, 8, 9]\n",
      "[3, 4, 5, 6, 7, 8, 9]\n",
      "[1, 2, 3, 4, 5, 6, 7, 8]\n",
      "[0, 1, 2, 3, 4, 5, 6, 7, 8, 9]\n",
      "[0, 1, 2, 3, 4, 5, 6, 7, 8, 9]\n"
     ]
    }
   ],
   "source": [
    "x = [i for i in range(10)]\n",
    "print(x)\n",
    "zero = x[0]\n",
    "one = x[1]\n",
    "nine = x[-1]\n",
    "eight = x[-2]\n",
    "print(x[-3])\n",
    "print(x[1:5])\n",
    "print(x[:3])\n",
    "print(x[-3:])\n",
    "print(x[3:])\n",
    "print(x[1:-1])\n",
    "print(x[:]) # coppy\n",
    "print(x[:3] + x[3:]) # when we sum two list of number "
   ]
  },
  {
   "cell_type": "code",
   "execution_count": 51,
   "metadata": {},
   "outputs": [
    {
     "name": "stdout",
     "output_type": "stream",
     "text": [
      "[1, 2, 3, 4, 5, 6]\n"
     ]
    }
   ],
   "source": [
    "### check for memberships\n",
    "1 in [1,2,3] #True\n",
    "### Concatenate lists \n",
    "x = [1, 2, 3]\n",
    "y = [4, 5 ,6]\n",
    "x.extend(y) #extend to concatenate or we can use x + y\n",
    "print(x)\n"
   ]
  },
  {
   "cell_type": "code",
   "execution_count": 58,
   "metadata": {},
   "outputs": [],
   "source": [
    "### List unpacking(multiple assignment)\n",
    "x , y = [1, 2] # x is 1 and y is 2\n",
    "[x,y]\n",
    "x, y = 1,2 # x is 1 and y is 2\n",
    "_ , y = [1, 2] #y is 2, didn't care about the first element"
   ]
  },
  {
   "cell_type": "code",
   "execution_count": 83,
   "metadata": {},
   "outputs": [
    {
     "name": "stdout",
     "output_type": "stream",
     "text": [
      "[0, 1, 4, 3, 4, 4, 3, 4, 5, 6, 7, 0]\n",
      "[4, 3, 4, 4, 3, 4, 5, 6, 7, 0]\n"
     ]
    }
   ],
   "source": [
    "### Modify content of list\n",
    "x =[i for i in range(9)]\n",
    "x[2] = x[2] * 2 # x is [0, 1, 4, 5, 6, 7, 8]\n",
    "x[-1] = 0 #x =[0, 1, 4, 3, 4, 5, 6, 7, 0]\n",
    "x[3:5] = x[3:5] *3 # x is [0, 1, 4, 9, 12, 5, 6, 7, 0] \n",
    "x[5:6] = [] # x is [0, 1, 4, 9, 12, 7, 0] \n",
    "print(x)\n",
    "del x[:2] # del = delete \n",
    "print(x)\n",
    "\n"
   ]
  },
  {
   "cell_type": "code",
   "execution_count": 79,
   "metadata": {},
   "outputs": [],
   "source": [
    "### Strings can also be sliced. But they cannot be modified ( they are immutable )\n",
    "s = 'abcdefg'\n",
    "a = s[0] #'a'\n",
    "x = s[:2] # 'ab'\n",
    "y = s[-3:] # 'efg'\n",
    "# s[:2] = 'AB'#this will be cause an error because strings are immutable\n",
    "s = 'AB' + s[2:] #str is now ABcdefg"
   ]
  },
  {
   "cell_type": "code",
   "execution_count": 88,
   "metadata": {},
   "outputs": [
    {
     "name": "stdout",
     "output_type": "stream",
     "text": [
      "0\n",
      "1\n",
      "2\n",
      "3\n",
      "4\n",
      "2\n",
      "3\n",
      "4\n",
      "0\n",
      "2\n",
      "4\n",
      "6\n",
      "8\n",
      "10\n",
      "8\n",
      "6\n",
      "4\n",
      "0 Mary\n",
      "1 had\n",
      "2 a\n",
      "3 little\n",
      "4 lamb\n"
     ]
    }
   ],
   "source": [
    "for i in range(5) :\n",
    "    print(i) #will print 0, 1, 2, 3, 4 ( in separate lines)\n",
    "for i in range(2,5):\n",
    "    print(i) #will print 2, 3, 4\n",
    "for i in range(0,10,2):\n",
    "    print(i) #will print 0, 2, 4, 6, 8\n",
    "for i in range(10,2,-2):\n",
    "    print(i) # will print 10, 8, 6, 4\n",
    "a = ['Mary', 'had', 'a', 'little', 'lamb']\n",
    "for i in range(len(a)):\n",
    "    print(i, a[i])\n",
    "# 0 Mary\n",
    "# 1 had\n",
    "# 2 a\n",
    "# 3 little\n",
    "# 4 lamb\n"
   ]
  },
  {
   "cell_type": "code",
   "execution_count": null,
   "metadata": {},
   "outputs": [],
   "source": [
    "print (range(3)) # in python 3, will see \"range(0, 3)\"\n",
    "print (range(3)) # in python 2, will see \"[0, 1, 2]\"\n",
    "print (list(range(3))) # will print [0, 1, 2] in python 3\n",
    "\n",
    "x = range(5)\n",
    "print (x[2])\t# in python 2, will print \"2\"\n",
    "print (x[2])\t# in python 3, will also print “2”\n",
    "\n",
    "x[2] = 5\t# in python 2, will result in [0, 1, 5, 3, 4, 5]\n",
    "x[2] = 5\t# in python 3, will cause an error. \n"
   ]
  },
  {
   "cell_type": "code",
   "execution_count": 90,
   "metadata": {},
   "outputs": [
    {
     "name": "stdout",
     "output_type": "stream",
     "text": [
      "[100, 1, 2, 3, 4, 5, 6, 7, 8, 9]\n",
      "[0, 1, 2, 3, 4, 5, 6, 7, 8, 9]\n"
     ]
    }
   ],
   "source": [
    "#ref to lists\n",
    "# what are the expected output for the following code?\n",
    "a = list(range(10))\n",
    "b = a \n",
    "b[0] = 100\n",
    "print(a) # it use the address of list\n",
    "a = list(range(10))\n",
    "b = a[:] #coopy a and we have different list \n",
    "b[0] = 100\n",
    "print(a)"
   ]
  },
  {
   "cell_type": "code",
   "execution_count": 101,
   "metadata": {},
   "outputs": [
    {
     "name": "stdout",
     "output_type": "stream",
     "text": [
      "<class 'tuple'>\n",
      "(0, 1, 2, 3, 4)\n",
      "('join', 1.1, [1, 2])\n",
      "<class 'tuple'>\n"
     ]
    }
   ],
   "source": [
    "#### TUPLES using () , and tuple similar to lists but are immutable\n",
    "a_tuple = (0, 1, 2, 3, 4)\n",
    "other_tuple = 3,4\n",
    "print(type(other_tuple))\n",
    "another_tuple = tuple([0, 1, 2, 3, 4])\n",
    "print(another_tuple)\n",
    "heterogeneous_tuple = ('join', 1.1 , [1,2])\n",
    "print(heterogeneous_tuple)\n",
    "a = (1,)\n",
    "print(type(a))\n",
    "a = (1) # type(a)  int\n",
    "#### Note: tuple is defined by comma, not parens, which is only used for convinience. So a =(1) is not a tuple, but a = (1,) is"
   ]
  },
  {
   "cell_type": "code",
   "execution_count": 107,
   "metadata": {},
   "outputs": [
    {
     "name": "stdout",
     "output_type": "stream",
     "text": [
      "<class 'tuple'>\n",
      "<class 'int'>\n",
      "2 1\n"
     ]
    }
   ],
   "source": [
    "#tuple -2 \n",
    "#useful for returning multiple values from functions\n",
    "\n",
    "def sum_and_product(x, y): \n",
    "    return (x +y), (x*y)\n",
    "sp = sum_and_product(2,3) # equals (5, 6) \n",
    "print(type(sp))\n",
    "#sp[0] = 10 error : 'tuple' object does not support item assignment\n",
    "# print(sp)\n",
    "s , p = sum_and_product(5,10) # s is 15, p is 50 \n",
    "print(type(s))\n",
    "#tuples and lists can also be used for multiple assignments\n",
    "x, y = 1, 2\n",
    "[x, y] = [1, 2]\n",
    "(x, y) = (1, 2)\n",
    "x , y = y , x\n",
    "print(x, y)"
   ]
  },
  {
   "cell_type": "code",
   "execution_count": 116,
   "metadata": {},
   "outputs": [
    {
     "name": "stdout",
     "output_type": "stream",
     "text": [
      "<class 'dict'>\n",
      "80\n",
      "{'Joel': 80, 'Tim': 99, 'Kate': 100}\n",
      "no grade for AAA!\n"
     ]
    }
   ],
   "source": [
    "#dictionaries\n",
    "#A dictionary asociates values with unique keys\n",
    "empty_dict = {} #pythonic\n",
    "empty_dict2 = dict() #less pythonic\n",
    "grades = {\"Joel\" : 80, \"Tim\": 95} #dictionary literal\n",
    "print(type(empty_dict2))\n",
    "#Access/ modify value with key\n",
    "joels_grade = grades[\"Joel\"] #equals 80\n",
    "print(joels_grade) #get value with key\n",
    "grades[\"Tim\"] = 99 # replaces the old value\n",
    "grades[\"Kate\"] = 100 #adds a third entry\n",
    "num_strudents = len(grades)\n",
    "print(grades)\n",
    "try : \n",
    "    kates_grade = grades[\"AAA\"]\n",
    "except KeyError:\n",
    "    print(\"no grade for AAA!\")"
   ]
  },
  {
   "cell_type": "code",
   "execution_count": 128,
   "metadata": {},
   "outputs": [
    {
     "name": "stdout",
     "output_type": "stream",
     "text": [
      "dict_keys(['Joel', 'Tim', 'Kate']) dict_values([80, 99, 100]) dict_items([('Joel', 80), ('Tim', 99), ('Kate', 100)])\n"
     ]
    }
   ],
   "source": [
    "#Dictionaries - 2 \n",
    "#Check for existence of key\n",
    "joel_has_grade = \"Joel\" in grades #True\n",
    "kate_has_grade = \"Kate\" in grades #False\n",
    "#Use \"get\" to avoid keyError and add default value\n",
    "joels_grade = grades.get(\"Joel\",0) #equals 80\n",
    "kates_grade = grades.get(\"Kate\", 0) #equals 0\n",
    "#Get all items\n",
    "all_keys = grades.keys()\t# return a list of all keys\n",
    "all_values = grades.values() # return a list of all values\n",
    "all_pairs = grades.items() # a list of (key, value) tuples\n",
    "print(all_keys,all_values,all_pairs)\n",
    "#In python3, The following will not return lists but iterable objects\n",
    "\n"
   ]
  },
  {
   "cell_type": "code",
   "execution_count": 2,
   "metadata": {},
   "outputs": [
    {
     "name": "stdout",
     "output_type": "stream",
     "text": [
      "0 is less than 10\n",
      "1 is less than 10\n",
      "2 is less than 10\n",
      "3 is less than 10\n",
      "4 is less than 10\n",
      "5 is less than 10\n",
      "6 is less than 10\n",
      "7 is less than 10\n",
      "8 is less than 10\n",
      "9 is less than 10\n",
      "0\n",
      "1\n",
      "2\n",
      "4\n"
     ]
    }
   ],
   "source": [
    "### Control flow \n",
    "#loops\n",
    "x = 0 \n",
    "while x < 10:\n",
    "    print(x ,\"is less than 10\")\n",
    "    x += 1\n",
    "for x in  range(10):\n",
    "    if x == 3 :\n",
    "        continue\n",
    "    if x == 5 :\n",
    "        break\n",
    "    print(x)"
   ]
  },
  {
   "cell_type": "code",
   "execution_count": 3,
   "metadata": {},
   "outputs": [
    {
     "name": "stdout",
     "output_type": "stream",
     "text": [
      "Cannot do this calculation\n"
     ]
    }
   ],
   "source": [
    "###exception\n",
    "try: \n",
    "    print(0/0)\n",
    "except ZeroDivisionError:\n",
    "    print(\"Cannot do this calculation\")"
   ]
  },
  {
   "cell_type": "code",
   "execution_count": 12,
   "metadata": {},
   "outputs": [
    {
     "name": "stdout",
     "output_type": "stream",
     "text": [
      "8\n",
      "-1\n"
     ]
    },
    {
     "data": {
      "text/plain": [
       "4"
      ]
     },
     "execution_count": 12,
     "metadata": {},
     "output_type": "execute_result"
    }
   ],
   "source": [
    "#Function : Function are defined using def\n",
    "def Summarize(a,b):\n",
    "    return (a + b)\n",
    "print(Summarize(3,5))\n",
    "#some time, it is useful to specify argument by name \n",
    "def subtract(a=0, b= 0):\n",
    "    return a-b\n",
    "print(subtract(5,6))\n",
    "#Function are objects too\n",
    "def double(x) : return x*2 \n",
    "DD = double\n",
    "DD(2)"
   ]
  },
  {
   "cell_type": "code",
   "execution_count": 30,
   "metadata": {},
   "outputs": [
    {
     "data": {
      "text/plain": [
       "[(1, 'one'), (2, 'two'), (3, 'three'), (4, 'four')]"
      ]
     },
     "execution_count": 30,
     "metadata": {},
     "output_type": "execute_result"
    }
   ],
   "source": [
    "#Function : Lambda \n",
    "#small anonymous functions can be created with the lambda keyword\n",
    "def apply_to_one(f):\n",
    "    return f(1)\n",
    "y = apply_to_one(lambda x: x+4)\n",
    "\n",
    "def small_function(x): return x+4\n",
    "apply_to_one(small_function)\n",
    "pairs = [(2,'two'), (3,'three'), (1,'one'), (4,'four')]\n",
    "pairs.sort(key = lambda pair:pair[0])\n",
    "pairs"
   ]
  },
  {
   "cell_type": "code",
   "execution_count": null,
   "metadata": {},
   "outputs": [],
   "source": []
  }
 ],
 "metadata": {
  "kernelspec": {
   "display_name": "Python 3",
   "language": "python",
   "name": "python3"
  },
  "language_info": {
   "codemirror_mode": {
    "name": "ipython",
    "version": 3
   },
   "file_extension": ".py",
   "mimetype": "text/x-python",
   "name": "python",
   "nbconvert_exporter": "python",
   "pygments_lexer": "ipython3",
   "version": "3.10.10"
  }
 },
 "nbformat": 4,
 "nbformat_minor": 2
}
